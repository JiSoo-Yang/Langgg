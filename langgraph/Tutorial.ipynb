{
 "cells": [
  {
   "cell_type": "code",
   "execution_count": 1,
   "metadata": {},
   "outputs": [],
   "source": [
    "import sys\n",
    "import os\n",
    "\n",
    "# 현재 파일의 절대 경로\n",
    "current_path = os.getcwd()\n",
    "# 프로젝트의 루트 디렉토리 (현재 경로의 상위 디렉토리)\n",
    "project_root = os.path.abspath(os.path.join(current_path, \"..\"))\n",
    "\n",
    "# PYTHONPATH에 추가\n",
    "if project_root not in sys.path:\n",
    "    sys.path.insert(0, project_root)"
   ]
  },
  {
   "cell_type": "markdown",
   "metadata": {},
   "source": [
    "## Part 1. 기본 챗봇 구축"
   ]
  },
  {
   "cell_type": "markdown",
   "metadata": {},
   "source": [
    "### 1-1. 챗봇 구축"
   ]
  },
  {
   "cell_type": "markdown",
   "metadata": {},
   "source": [
    "- StateGraph는 Node와 Edge로 구성되며, 각 Node는 특정 작업을 수행하고 상태를 업데이트 한다.\n",
    "    \n",
    "    1. State: 애플리케이션의 현재 상태를 나타내는 공유 데이터 구조\n",
    "        - 역할: 전체 워크플로우의 컨텍스트 유지. 노드간 정보 공유. \n",
    "        - TypedDict 또는 Pydantic BaseModel로 정의한다.\n",
    "    2. Nodes: 실제 작업을 수행하는 Python 함수들\n",
    "        - 역할: 특정 로직 수행(예: LLM 호출, 도구 사용). 상태 업데이트.\n",
    "        - 입력으로 현재 상태를 받고, 업데이트된 상태를 반환한다.\n",
    "    3. Edges: 노드 간의 연결을 정의하는 요소\n",
    "        - 역할: 워크플로우의 흐름제어. 조건부 라우팅 가능. 다음에 실행할 노드 결정."
   ]
  },
  {
   "cell_type": "markdown",
   "metadata": {},
   "source": [
    "- 더 쉬운 말로 이해하기 (LangGraph: 거대한 자동차 공장)\n",
    "\n",
    "    1. State(상태): 공장 전체의 현재 상황을 나타내는 중앙 관제 시스템. 그래프 내에서는 현재의 상태가 모든 직원들에게 공유된다.\n",
    "    2. Nodes(노드): 각 노드는 공장 내의 특정 작업 스테이션. 각 스테이션은 자신의 고유한 작업을 수행한다.\n",
    "    3. Edges(엣지): 각 작업 스테이션 간의 정보 전달 시스템. 한 스테이션의 작업이 끝나면 다음 스테이션으로 제품이나 정보를 전달한다.\n",
    "\n",
    "    - 공장 가동 시 모든 스테이션은 대기 상태(inactive)로 시작한다. 작업할 제품이나 정보가 도착하면 스테이션이 활성화(active)되어 작업을 시작한다.\n",
    "    - 작업을 마치면 결과물을 다음 스테이션으로 보내고 다시 대기상태(inactive) 상태로 돌아간다.\n",
    "    - 모든 스테이션의 작업이 끝나고 더 이상 처리할 제품이 없으면 공장 가동이 종료된다."
   ]
  },
  {
   "cell_type": "code",
   "execution_count": 2,
   "metadata": {},
   "outputs": [],
   "source": [
    "from typing import Annotated\n",
    "from typing_extensions import TypedDict\n",
    "from langgraph.graph import StateGraph, START, END\n",
    "from langgraph.graph.message import add_messages\n",
    "\n",
    "class State(TypedDict):\n",
    "    messages: Annotated[list, add_messages]\n",
    "\n",
    "graph_builder = StateGraph(State)"
   ]
  },
  {
   "cell_type": "markdown",
   "metadata": {},
   "source": [
    "- graph_builder.add_node(\"chatbot\", chatbot)"
   ]
  },
  {
   "cell_type": "code",
   "execution_count": 3,
   "metadata": {},
   "outputs": [
    {
     "data": {
      "text/plain": [
       "<langgraph.graph.state.StateGraph at 0x10406b470>"
      ]
     },
     "execution_count": 3,
     "metadata": {},
     "output_type": "execute_result"
    }
   ],
   "source": [
    "# from langchain_community.chat_models import ChatClovaX\n",
    "from langchain_openai import ChatOpenAI\n",
    "\n",
    "from config.api_config import (CLOVA_API_KEY, CLOVA_API_GATEWAY_KEY, TAVILY_API_KEY, OPENAI_API_KEY)\n",
    "\n",
    "os.environ[\"NCP_CLOVASTUDIO_API_KEY\"] = CLOVA_API_KEY\n",
    "os.environ[\"NCP_APIGW_API_KEY\"] = CLOVA_API_GATEWAY_KEY\n",
    "os.environ[\"OPENAI_API_KEY\"] = OPENAI_API_KEY\n",
    "\n",
    "# llm = ChatClovaX(model=\"HCX-003\")\n",
    "llm = ChatOpenAI(model=\"gpt-3.5-turbo\")\n",
    "\n",
    "def chatbot(state: State):\n",
    "    return {\"messages\": [llm.invoke(state[\"messages\"])]}\n",
    "\n",
    "graph_builder.add_node(\"chatbot\", chatbot)"
   ]
  },
  {
   "cell_type": "markdown",
   "metadata": {},
   "source": [
    "- graph_builder.add_edge(START, \"chatbot\")\n",
    "- graph_builder.add_edge(\"chatbot\", END)\n",
    "\n",
    "  --> graph_builder.compile()"
   ]
  },
  {
   "cell_type": "code",
   "execution_count": 4,
   "metadata": {},
   "outputs": [],
   "source": [
    "graph_builder.add_edge(START, \"chatbot\")\n",
    "graph_builder.add_edge(\"chatbot\", END)\n",
    "\n",
    "graph = graph_builder.compile()"
   ]
  },
  {
   "cell_type": "code",
   "execution_count": 5,
   "metadata": {},
   "outputs": [
    {
     "data": {
      "image/png": "[encoded data removed]",
      "text/plain": [
       "<IPython.core.display.Image object>"
      ]
     },
     "metadata": {},
     "output_type": "display_data"
    }
   ],
   "source": [
    "from IPython.display import Image, display\n",
    "\n",
    "try:\n",
    "    display(Image(graph.get_graph().draw_mermaid_png()))\n",
    "except Exception:\n",
    "    pass"
   ]
  },
  {
   "cell_type": "markdown",
   "metadata": {},
   "source": [
    "### 1-2. 챗봇 실행"
   ]
  },
  {
   "cell_type": "code",
   "execution_count": 6,
   "metadata": {},
   "outputs": [
    {
     "name": "stdout",
     "output_type": "stream",
     "text": [
      "Assistant: 네이버는 한국의 대표적인 포털 사이트이며, 검색 엔진, 뉴스, 블로그, 지식인, 카페, 지도, 쇼핑 등 다양한 서비스를 제공하는 인터넷 기업입니다. 또한, 네이버는 한국의 대표적인 인터넷 기업인 네이버 코퍼레이션의 대표 브랜드이기도 합니다. 현재 네이버는 한국을 넘어 글로벌 시장에서도 다양한 서비스를 제공하고 있습니다.\n",
      "Goodbye!\n"
     ]
    }
   ],
   "source": [
    "def stream_graph_updates(user_input: str):\n",
    "    for event in graph.stream({\"messages\": (\"user\", user_input)}):\n",
    "        for value in event.values():\n",
    "            print(\"Assistant:\", value[\"messages\"][-1].content)\n",
    "\n",
    "while True:\n",
    "    try:\n",
    "        user_input = input(\"User: \")\n",
    "        if user_input.lower() in [\"quit\", \"exit\", \"q\"]:\n",
    "            print(\"Goodbye!\")\n",
    "            break\n",
    "\n",
    "        stream_graph_updates(user_input)\n",
    "    \n",
    "    except:\n",
    "        # input이 이상할 때\n",
    "        user_input = \"What do you know about LangGraph?\"\n",
    "        print(\"User: \"+user_input)\n",
    "        stream_graph_updates(user_input)\n",
    "        break\n"
   ]
  },
  {
   "cell_type": "markdown",
   "metadata": {},
   "source": [
    "## Part 2. tools로 챗봇 향상"
   ]
  },
  {
   "cell_type": "code",
   "execution_count": 7,
   "metadata": {},
   "outputs": [],
   "source": [
    "# !pip install -U tavily-python langchain_community"
   ]
  },
  {
   "cell_type": "code",
   "execution_count": 7,
   "metadata": {},
   "outputs": [],
   "source": [
    "from typing import Annotated, Literal\n",
    "from typing_extensions import TypedDict\n",
    "import json\n",
    "\n",
    "from langgraph.graph import StateGraph, START, END\n",
    "from langgraph.graph.message import add_messages\n",
    "\n",
    "from langchain_core.messages import ToolMessage\n",
    "# from langchain_community.chat_models import ChatClovaX\n",
    "from langchain_openai import ChatOpenAI\n",
    "from config.api_config import (CLOVA_API_KEY, CLOVA_API_GATEWAY_KEY, TAVILY_API_KEY, OPENAI_API_KEY)\n",
    "\n",
    "os.environ[\"NCP_CLOVASTUDIO_API_KEY\"] = CLOVA_API_KEY\n",
    "os.environ[\"NCP_APIGW_API_KEY\"] = CLOVA_API_GATEWAY_KEY\n",
    "os.environ[\"OPENAI_API_KEY\"] = OPENAI_API_KEY\n",
    "os.environ[\"TAVILY_API_KEY\"] = TAVILY_API_KEY"
   ]
  },
  {
   "cell_type": "markdown",
   "metadata": {},
   "source": [
    "### 2-1. tool 정의"
   ]
  },
  {
   "cell_type": "code",
   "execution_count": 8,
   "metadata": {},
   "outputs": [
    {
     "data": {
      "text/plain": [
       "[{'url': 'https://medium.com/@cplog/introduction-to-langgraph-a-beginners-guide-14f9be027141',\n",
       "  'content': 'Nodes: Nodes are the building blocks of your LangGraph. Each node represents a function or a computation step. You define nodes to perform specific tasks, such as processing input, making'},\n",
       " {'url': 'https://www.datacamp.com/tutorial/langgraph-tutorial',\n",
       "  'content': \"In LangGraph, each node represents an LLM agent, and the edges are the communication channels between these agents. This structure allows for clear and manageable workflows, where each agent performs specific tasks and passes information to other agents as needed. State management. One of LangGraph's standout features is its automatic state\"}]"
      ]
     },
     "execution_count": 8,
     "metadata": {},
     "output_type": "execute_result"
    }
   ],
   "source": [
    "from langchain_community.tools.tavily_search import TavilySearchResults\n",
    "\n",
    "tool = TavilySearchResults(max_results = 2) # tool : Tavily 검색 도구 -> 챗봇이 실시간 정보를 검색할 수 있게 함\n",
    "tools = [tool]\n",
    "tool.invoke(\"What's a 'node' in LangGraph?\")"
   ]
  },
  {
   "cell_type": "code",
   "execution_count": 9,
   "metadata": {},
   "outputs": [
    {
     "data": {
      "text/plain": [
       "<langgraph.graph.state.StateGraph at 0x10ab0f920>"
      ]
     },
     "execution_count": 9,
     "metadata": {},
     "output_type": "execute_result"
    }
   ],
   "source": [
    "class State(TypedDict):\n",
    "    messages: Annotated[list, add_messages]\n",
    "\n",
    "graph_builder = StateGraph(State)\n",
    "\n",
    "# llm = ChatClovaX(model=\"HCX-003\")\n",
    "llm = ChatOpenAI(model=\"gpt-3.5-turbo\")\n",
    "# Modification: tell the LLM which tools it can call\n",
    "llm_with_tools = llm.bind_tools(tools) # llm에 tool 연결\n",
    "\n",
    "\n",
    "def chatbot(state: State):\n",
    "    return {\"messages\": [llm_with_tools.invoke(state[\"messages\"])]}\n",
    "\n",
    "graph_builder.add_node(\"chatbot\", chatbot) # 노드 1"
   ]
  },
  {
   "cell_type": "code",
   "execution_count": 10,
   "metadata": {},
   "outputs": [
    {
     "data": {
      "text/plain": [
       "<langgraph.graph.state.StateGraph at 0x10ab0f920>"
      ]
     },
     "execution_count": 10,
     "metadata": {},
     "output_type": "execute_result"
    }
   ],
   "source": [
    "class BasicToolNode:\n",
    "    \"\"\"A node that runs the tools requested in the last AIMessage.\"\"\"\n",
    "\n",
    "    def __init__(self, tools: list) -> None:\n",
    "        self.tools_by_name = {tool.name: tool for tool in tools}\n",
    "\n",
    "    def __call__(self, inputs: dict):\n",
    "        if messages := inputs.get(\"messages\", []):\n",
    "            message = messages[-1]\n",
    "        else:\n",
    "            raise ValueError(\"No message found in input\")\n",
    "        outputs = []\n",
    "        for tool_call in message.tool_calls:\n",
    "            tool_result = self.tools_by_name[tool_call[\"name\"]].invoke(\n",
    "                tool_call[\"args\"]\n",
    "            )\n",
    "            outputs.append(\n",
    "                ToolMessage(\n",
    "                    content=json.dumps(tool_result),\n",
    "                    name=tool_call[\"name\"],\n",
    "                    tool_call_id=tool_call[\"id\"],\n",
    "                )\n",
    "            )\n",
    "        return {\"messages\": outputs}\n",
    "\n",
    "\n",
    "tool_node = BasicToolNode(tools=[tool])\n",
    "graph_builder.add_node(\"tools\", tool_node) # 노드 2"
   ]
  },
  {
   "cell_type": "markdown",
   "metadata": {},
   "source": [
    "### 2-2. 조건부 라우팅 구현\n",
    "- 조건부 라우팅은 AI가 대화 중에 \"결정\"을 내리는 방법이다. <br>\n",
    "    마치 우리가 대화할 떄 상대방의 말에 따라 다르게 대응하는 것처럼, AI도 입력에 따라 다른 행동을 할 수 있다.\n"
   ]
  },
  {
   "cell_type": "markdown",
   "metadata": {},
   "source": [
    "- 조건부 라우팅은 다음과 같은 이유로 AI 시스템에서 중요하다.\n",
    "\n",
    "    1. 유연성: 다양한 사용자 입력에 대응하여 적절한 처리 경로를 선택할 수 있다.\n",
    "    2. 효율성: 필요한 경우에만 특정 노드나 기능을 실행하여 리소스를 절약한다.\n",
    "    3. 복잡한 워크플로우: 다단계 의사결정 프로세스를 구현할 수 있다.\n",
    "    4. 사용자 경험 개선: 상황에 따라 다른 응답을 제공하여 더 자연스러운 대화를 가능하게 한다."
   ]
  },
  {
   "cell_type": "code",
   "execution_count": 11,
   "metadata": {},
   "outputs": [],
   "source": [
    "def route_tools(\n",
    "    state: State,\n",
    "):\n",
    "    if isinstance(state, list):\n",
    "        ai_message = state[-1]\n",
    "    elif messages := state.get(\"messages\", []):\n",
    "        ai_message = messages[-1]\n",
    "    else:\n",
    "        raise ValueError(f\"No messages found in input state to tool_edge: {state}\")\n",
    "    if hasattr(ai_message, \"tool_calls\") and len(ai_message.tool_calls) > 0:\n",
    "        return \"tools\"\n",
    "    return END\n",
    "\n",
    "# 조건부 엣지의 정의 (아래의 display 이미지에서 점선에 해당됨)\n",
    "graph_builder.add_conditional_edges(\n",
    "    \"chatbot\", # 조건 검사를 시작할 노드\n",
    "    route_tools, # 현재 상태를 평가하고 다음 노드를 결정하는 함수\n",
    "    {\"tools\": \"tools\", END: END}\n",
    ")\n",
    "\n",
    "graph_builder.add_edge(\"tools\", \"chatbot\")\n",
    "graph_builder.add_edge(START, \"chatbot\")\n",
    "graph = graph_builder.compile()"
   ]
  },
  {
   "cell_type": "code",
   "execution_count": 7,
   "metadata": {},
   "outputs": [
    {
     "data": {
      "image/png": "[encoded data removed]",
      "text/plain": [
       "<IPython.core.display.Image object>"
      ]
     },
     "metadata": {},
     "output_type": "display_data"
    }
   ],
   "source": [
    "from IPython.display import Image, display\n",
    "\n",
    "try:\n",
    "    display(Image(graph.get_graph().draw_mermaid_png()))\n",
    "except:\n",
    "    pass"
   ]
  },
  {
   "cell_type": "markdown",
   "metadata": {},
   "source": [
    "### 2-3. 챗봇 실행"
   ]
  },
  {
   "cell_type": "code",
   "execution_count": 12,
   "metadata": {},
   "outputs": [
    {
     "name": "stdout",
     "output_type": "stream",
     "text": [
      "Assistant: \n",
      "Assistant: [{\"url\": \"https://play.google.com/store/apps/dev?id=6225315284672069550&hl=en-US\", \"content\": \"\\ub124\\uc774\\ubc84 - NAVER. NAVER Corp. Enjoy Naver App's special search features and various services. Smartphones. 3.7star. 562K reviews. 100M+ Downloads. Everyone. info. Install. Enjoy Naver App's special search features and various services. Smartphones. More by NAVER Corp. BAND - App for all groups.\"}, {\"url\": \"https://play.google.com/store/apps/details?id=com.nhn.android.search&hl=en-US\", \"content\": \"\\ub124\\uc774\\ubc84 - NAVER. NAVER Corp. 3.7star. 562K reviews. 100M+ Downloads. Everyone. info. Install. Share. Add to wishlist. About this app. arrow_forward. A wealth of information optimized for mobile! Experience the NAVER app, refreshed daily. The NAVER app offers five spaces tailored to different content types. Your favorite is in \\\"Home Feed\"}]\n",
      "Assistant: 네이버는 NAVER Corp.에서 제공하는 앱으로, 특별한 검색 기능과 다양한 서비스를 제공합니다. 리뷰 수는 562,000개 이상이고 다운로드 수는 1억 건 이상입니다. 네이버 앱은 매일 새롭게 갱신되는 다양한 정보를 제공하며, 다양한 콘텐츠 유형에 맞게 구성된 다섯 가지 공간을 제공합니다. 자세한 내용은 아래 링크에서 확인할 수 있습니다:\n",
      "1. [NAVER 앱 다운로드 링크](https://play.google.com/store/apps/dev?id=6225315284672069550&hl=en-US)\n",
      "2. [NAVER 앱 정보 링크](https://play.google.com/store/apps/details?id=com.nhn.android.search&hl=en-US)\n",
      "Assistant: 죄송합니다, 추가 정보를 주시면 무엇인지 확인해 드릴 수 있습니다. 혹시 구체적인 내용이나 키워드 등을 알려주실 수 있나요?\n",
      "Assistant: \n",
      "Assistant: [{\"url\": \"https://play.google.com/store/apps/details?id=com.coupang.mobile.lightspeed&hl=en-US\", \"content\": \"\\ucfe0\\ud321(\\uc8fc) coupangmobile@gmail.com . \\ub300\\ud55c\\ubbfc\\uad6d \\uc11c\\uc6b8\\ud2b9\\ubcc4\\uc2dc \\uc1a1\\ud30c\\uad6c \\uc1a1\\ud30c\\uad6c \\uc1a1\\ud30c\\ub300\\ub85c 570, 18\\uce35(\\uc2e0\\ucc9c\\ub3d9) 05510 +82 10-5202-7375 . More by Coupang Corp. arrow_forward. \\ucfe0\\ud321 (Coupang) Coupang Corp. 3.7 star. Coupang Eats - Food Delivery.\"}, {\"url\": \"https://www.aboutcoupang.com/Korean/home/default.aspx\", \"content\": \"\\ucfe0\\ud321\\uc740 \\ucee4\\uba38\\uc2a4\\uc758 \\ubbf8\\ub798\\ub97c \\ub9cc\\ub4e4\\uc5b4 \\uac00\\uace0 \\uc788\\uc2b5\\ub2c8\\ub2e4\\n\\ucfe0\\ud321\\uc740 \\uace0\\uac1d\\uc774 \\ucfe0\\ud321 \\uc571\\uc744 \\uc5ec\\ub294 \\uc21c\\uac04\\ubd80\\ud130 \\uc0c1\\ud488\\uc744 \\ubb38 \\uc55e\\uc73c\\ub85c \\ubc30\\uc1a1\\ubc1b\\uc744 \\ub54c\\uae4c\\uc9c0, \\uace0\\uac1d \\ud55c \\ubd84 \\ud55c \\ubd84\\uc5d0\\uac8c \\uac10\\ub3d9\\uc744 \\uc904 \\uc218 \\uc788\\ub3c4\\ub85d \\uc1fc\\ud551\\uc758 \\uacbd\\ud5d8\\uc744 \\uc0c8\\ub86d\\uac8c \\ub9cc\\ub4e4\\uc5b4 \\uac00\\uace0 \\uc788\\uc2b5\\ub2c8\\ub2e4.\\n \\ud68c\\uc0ac \\uc815\\ubcf4\\n\\ucfe0\\ud321 \\uc0ac\\uc774\\ud2b8\\n\\uc18c\\uc15c \\ucc44\\ub110\\nCopyright \\u00a9\\nCoupang, Inc. \\ucfe0\\ud321\\uc758 \\ubb38\\ud654\\n\\ucfe0\\ud321 \\ud575\\uc2ec \\ube44\\uc988\\ub2c8\\uc2a4\\uc758 \\uc131\\uacfc\\ub294 \\uc2e0\\uaddc \\uc81c\\ud488\\uacfc \\uc11c\\ube44\\uc2a4\\ub97c \\uac1c\\ubc1c\\ud558\\ub294 \\ub370 \\ubc11\\uac70\\ub984\\uc774 \\ub418\\uace0 \\uc788\\uc73c\\uba70, \\ucfe0\\ud321\\uc758 \\uc2e0\\uaddc \\uc11c\\ube44\\uc2a4\\ud300\\uc740 \\ub9c8\\uce58 \\ucfe0\\ud321 \\uc548\\uc758 \\uc791\\uc740 \\uc2a4\\ud0c0\\ud2b8\\uc5c5\\ucc98\\ub7fc \\uc6b4\\uc601\\ub429\\ub2c8\\ub2e4.\\n \\ud55c\\uad6d \\uc778\\uad6c\\uc758 70%\\uac00 \\ucfe0\\ud321 \\ubc30\\uc1a1\\uc13c\\ud130\\ub85c\\ubd80\\ud130 10\\u339e \\ub0b4\\uc5d0 \\uac70\\uc8fc\\ud558\\uace0 \\uc788\\uc2b5\\ub2c8\\ub2e4.\\n\\uc774\\ub7ec\\ud55c \\ubb3c\\ub9ac\\uc801 \\uc778\\ud504\\ub77c\\ub294 \\ucd5c\\ucca8\\ub2e8 \\uc2dc\\uc2a4\\ud15c \\ubc0f \\uc18c\\ud504\\ud2b8\\uc6e8\\uc5b4\\uc640 \\uc811\\ubaa9\\ub3fc \\uc788\\uc2b5\\ub2c8\\ub2e4. \\uc624\\ub298\\ub3c4 \\ucfe0\\ud321\\uc740 \\uc2e0\\uc120 \\uc2dd\\ud488\\uc744 \\ud3ec\\ud568\\ud55c \\uc218\\ubc31\\ub9cc \\uac1c\\uc758 \\uc0c1\\ud488\\uc744 1\\ub144 365\\uc77c, \\ub2e8 \\uba87 \\uc2dc\\uac04 \\ub0b4\\uc5d0 \\uc804\\uad6d\\uc73c\\ub85c \\ubc30\\uc1a1\\ud558\\ub294 \\ud601\\uc2e0\\uc744 \\uc2e4\\ud604\\ud558\\uace0 \\uc788\\uc2b5\\ub2c8\\ub2e4.\\n\"}]\n",
      "Assistant: 쿠팡은 한국의 전자상거래 기업으로, 주로 온라인 쇼핑 플랫폼을 운영하고 있습니다. 쿠팡은 다양한 상품을 온라인으로 판매하며, 특히 한국에서 매우 인기 있는 쇼핑 플랫폼 중 하나입니다. 쿠팡은 음식 배달 서비스인 'Coupang Eats'도 제공하고 있습니다.\n",
      "\n",
      "더 자세한 정보를 원하시면 [쿠팡 공식 웹사이트](https://www.aboutcoupang.com/Korean/home/default.aspx)를 참고하시거나 [쿠팡 앱 다운로드 링크](https://play.google.com/store/apps/details?id=com.coupang.mobile.lightspeed&hl=en-US)를 확인해보세요.\n",
      "Goodbye!\n"
     ]
    }
   ],
   "source": [
    "while True:\n",
    "    try:\n",
    "        user_input = input(\"User: \")\n",
    "        if user_input.lower() in [\"quit\", \"exit\", \"q\"]:\n",
    "            print(\"Goodbye!\")\n",
    "            break\n",
    "\n",
    "        stream_graph_updates(user_input)\n",
    "    except:\n",
    "        # fallback if input() is not available\n",
    "        user_input = \"What do you know about LangGraph?\"\n",
    "        print(\"User: \" + user_input)\n",
    "        stream_graph_updates(user_input)\n",
    "        break"
   ]
  }
 ],
 "metadata": {
  "kernelspec": {
   "display_name": "lc",
   "language": "python",
   "name": "python3"
  },
  "language_info": {
   "codemirror_mode": {
    "name": "ipython",
    "version": 3
   },
   "file_extension": ".py",
   "mimetype": "text/x-python",
   "name": "python",
   "nbconvert_exporter": "python",
   "pygments_lexer": "ipython3",
   "version": "3.12.7"
  }
 },
 "nbformat": 4,
 "nbformat_minor": 2
}
